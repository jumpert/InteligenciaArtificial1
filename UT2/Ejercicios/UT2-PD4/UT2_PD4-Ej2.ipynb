{
 "cells": [
  {
   "cell_type": "markdown",
   "metadata": {},
   "source": [
    "# Unidad Temática 2 \n",
    "\n",
    "## Práctico Domiciliario 4\n",
    "\n",
    "<br/>\n",
    "\n",
    "# Ejercicio 2"
   ]
  },
  {
   "cell_type": "markdown",
   "metadata": {},
   "source": [
    "En base al blog de la Universidad de Staford “A Titanic Probability”, disponible en http://web.stanford.edu/class/archive/cs/cs109/cs109.1166/problem12.html, se pide descargar el dataset de los pasajeros del Titanic y realizar un programa que permita responder preguntas existentes. \n",
    "Asimismo, se brinda la información de que el dataset contiene atributos de personas como Survived (S), la edad (A), la passenger-class (C), el género (G) y la tarifa del ticket (X).\n",
    "\n",
    "Inicialmente se importan las librerías que se utilizaran para el desarrollo del ejercicio."
   ]
  },
  {
   "cell_type": "code",
   "execution_count": 148,
   "metadata": {},
   "outputs": [],
   "source": [
    "import numpy as np\n",
    "import pandas as pd\n",
    "\n",
    "import seaborn as sns\n",
    "import matplotlib.pyplot as plt\n",
    "sns.set_style(\"whitegrid\")\n",
    "\n",
    "import warnings\n",
    "warnings.filterwarnings('ignore')"
   ]
  },
  {
   "cell_type": "markdown",
   "metadata": {},
   "source": [
    "Una vez importadas las librerías, se procede a leer el archivo csv y se lo almacena en la variable df, de nombre `titanic`."
   ]
  },
  {
   "cell_type": "code",
   "execution_count": 149,
   "metadata": {},
   "outputs": [],
   "source": [
    "titanic = pd.read_csv('./titanicUS.csv')"
   ]
  },
  {
   "cell_type": "code",
   "execution_count": 150,
   "metadata": {},
   "outputs": [
    {
     "data": {
      "text/html": [
       "<div>\n",
       "<style scoped>\n",
       "    .dataframe tbody tr th:only-of-type {\n",
       "        vertical-align: middle;\n",
       "    }\n",
       "\n",
       "    .dataframe tbody tr th {\n",
       "        vertical-align: top;\n",
       "    }\n",
       "\n",
       "    .dataframe thead th {\n",
       "        text-align: right;\n",
       "    }\n",
       "</style>\n",
       "<table border=\"1\" class=\"dataframe\">\n",
       "  <thead>\n",
       "    <tr style=\"text-align: right;\">\n",
       "      <th></th>\n",
       "      <th>Survived</th>\n",
       "      <th>Pclass</th>\n",
       "      <th>Name</th>\n",
       "      <th>Sex</th>\n",
       "      <th>Age</th>\n",
       "      <th>Siblings/Spouses Aboard</th>\n",
       "      <th>Parents/Children Aboard</th>\n",
       "      <th>Fare</th>\n",
       "    </tr>\n",
       "  </thead>\n",
       "  <tbody>\n",
       "    <tr>\n",
       "      <th>0</th>\n",
       "      <td>0</td>\n",
       "      <td>3</td>\n",
       "      <td>Mr. Owen Harris Braund</td>\n",
       "      <td>male</td>\n",
       "      <td>22.0</td>\n",
       "      <td>1</td>\n",
       "      <td>0</td>\n",
       "      <td>7.2500</td>\n",
       "    </tr>\n",
       "    <tr>\n",
       "      <th>1</th>\n",
       "      <td>1</td>\n",
       "      <td>1</td>\n",
       "      <td>Mrs. John Bradley (Florence Briggs Thayer) Cum...</td>\n",
       "      <td>female</td>\n",
       "      <td>38.0</td>\n",
       "      <td>1</td>\n",
       "      <td>0</td>\n",
       "      <td>71.2833</td>\n",
       "    </tr>\n",
       "    <tr>\n",
       "      <th>2</th>\n",
       "      <td>1</td>\n",
       "      <td>3</td>\n",
       "      <td>Miss. Laina Heikkinen</td>\n",
       "      <td>female</td>\n",
       "      <td>26.0</td>\n",
       "      <td>0</td>\n",
       "      <td>0</td>\n",
       "      <td>7.9250</td>\n",
       "    </tr>\n",
       "    <tr>\n",
       "      <th>3</th>\n",
       "      <td>1</td>\n",
       "      <td>1</td>\n",
       "      <td>Mrs. Jacques Heath (Lily May Peel) Futrelle</td>\n",
       "      <td>female</td>\n",
       "      <td>35.0</td>\n",
       "      <td>1</td>\n",
       "      <td>0</td>\n",
       "      <td>53.1000</td>\n",
       "    </tr>\n",
       "    <tr>\n",
       "      <th>4</th>\n",
       "      <td>0</td>\n",
       "      <td>3</td>\n",
       "      <td>Mr. William Henry Allen</td>\n",
       "      <td>male</td>\n",
       "      <td>35.0</td>\n",
       "      <td>0</td>\n",
       "      <td>0</td>\n",
       "      <td>8.0500</td>\n",
       "    </tr>\n",
       "  </tbody>\n",
       "</table>\n",
       "</div>"
      ],
      "text/plain": [
       "   Survived  Pclass                                               Name  \\\n",
       "0         0       3                             Mr. Owen Harris Braund   \n",
       "1         1       1  Mrs. John Bradley (Florence Briggs Thayer) Cum...   \n",
       "2         1       3                              Miss. Laina Heikkinen   \n",
       "3         1       1        Mrs. Jacques Heath (Lily May Peel) Futrelle   \n",
       "4         0       3                            Mr. William Henry Allen   \n",
       "\n",
       "      Sex   Age  Siblings/Spouses Aboard  Parents/Children Aboard     Fare  \n",
       "0    male  22.0                        1                        0   7.2500  \n",
       "1  female  38.0                        1                        0  71.2833  \n",
       "2  female  26.0                        0                        0   7.9250  \n",
       "3  female  35.0                        1                        0  53.1000  \n",
       "4    male  35.0                        0                        0   8.0500  "
      ]
     },
     "execution_count": 150,
     "metadata": {},
     "output_type": "execute_result"
    }
   ],
   "source": [
    "titanic.head() # Mostramos las 5 primeras filas del dataset"
   ]
  },
  {
   "cell_type": "markdown",
   "metadata": {},
   "source": [
    "utilizando el método `head()` se visualizan las primeras 5 filas del dataset. Lo que nos permite ver el contenido de las columnas y la información que contiene cada una de ellas."
   ]
  },
  {
   "cell_type": "code",
   "execution_count": 151,
   "metadata": {},
   "outputs": [
    {
     "name": "stdout",
     "output_type": "stream",
     "text": [
      "Index(['Survived', 'Pclass', 'Name', 'Sex', 'Age', 'Siblings/Spouses Aboard',\n",
      "       'Parents/Children Aboard', 'Fare'],\n",
      "      dtype='object')\n"
     ]
    }
   ],
   "source": [
    "print(titanic.keys())   # Mostramos las columnas del dataset"
   ]
  },
  {
   "cell_type": "code",
   "execution_count": 152,
   "metadata": {},
   "outputs": [
    {
     "name": "stdout",
     "output_type": "stream",
     "text": [
      "Estos son las columnas que contienen valores numéricos: \n",
      "Age     float64\n",
      "Fare    float64\n",
      "dtype: object\n"
     ]
    }
   ],
   "source": [
    "types_titanic = titanic.dtypes # Mostramos los tipos de datos de cada columna\n",
    "num_values = types_titanic[(types_titanic == float)] # Mostramos las columnas que contienen valores numéricos\n",
    "\n",
    "print(\"Estos son las columnas que contienen valores numéricos: \")\n",
    "print(num_values)"
   ]
  },
  {
   "cell_type": "code",
   "execution_count": 153,
   "metadata": {},
   "outputs": [
    {
     "data": {
      "text/html": [
       "<div>\n",
       "<style scoped>\n",
       "    .dataframe tbody tr th:only-of-type {\n",
       "        vertical-align: middle;\n",
       "    }\n",
       "\n",
       "    .dataframe tbody tr th {\n",
       "        vertical-align: top;\n",
       "    }\n",
       "\n",
       "    .dataframe thead th {\n",
       "        text-align: right;\n",
       "    }\n",
       "</style>\n",
       "<table border=\"1\" class=\"dataframe\">\n",
       "  <thead>\n",
       "    <tr style=\"text-align: right;\">\n",
       "      <th></th>\n",
       "      <th>Survived</th>\n",
       "      <th>Pclass</th>\n",
       "      <th>Age</th>\n",
       "      <th>Siblings/Spouses Aboard</th>\n",
       "      <th>Parents/Children Aboard</th>\n",
       "      <th>Fare</th>\n",
       "    </tr>\n",
       "  </thead>\n",
       "  <tbody>\n",
       "    <tr>\n",
       "      <th>count</th>\n",
       "      <td>887.000000</td>\n",
       "      <td>887.000000</td>\n",
       "      <td>887.000000</td>\n",
       "      <td>887.000000</td>\n",
       "      <td>887.000000</td>\n",
       "      <td>887.00000</td>\n",
       "    </tr>\n",
       "    <tr>\n",
       "      <th>mean</th>\n",
       "      <td>0.385569</td>\n",
       "      <td>2.305524</td>\n",
       "      <td>29.471443</td>\n",
       "      <td>0.525366</td>\n",
       "      <td>0.383315</td>\n",
       "      <td>32.30542</td>\n",
       "    </tr>\n",
       "    <tr>\n",
       "      <th>std</th>\n",
       "      <td>0.487004</td>\n",
       "      <td>0.836662</td>\n",
       "      <td>14.121908</td>\n",
       "      <td>1.104669</td>\n",
       "      <td>0.807466</td>\n",
       "      <td>49.78204</td>\n",
       "    </tr>\n",
       "    <tr>\n",
       "      <th>min</th>\n",
       "      <td>0.000000</td>\n",
       "      <td>1.000000</td>\n",
       "      <td>0.420000</td>\n",
       "      <td>0.000000</td>\n",
       "      <td>0.000000</td>\n",
       "      <td>0.00000</td>\n",
       "    </tr>\n",
       "    <tr>\n",
       "      <th>25%</th>\n",
       "      <td>0.000000</td>\n",
       "      <td>2.000000</td>\n",
       "      <td>20.250000</td>\n",
       "      <td>0.000000</td>\n",
       "      <td>0.000000</td>\n",
       "      <td>7.92500</td>\n",
       "    </tr>\n",
       "    <tr>\n",
       "      <th>50%</th>\n",
       "      <td>0.000000</td>\n",
       "      <td>3.000000</td>\n",
       "      <td>28.000000</td>\n",
       "      <td>0.000000</td>\n",
       "      <td>0.000000</td>\n",
       "      <td>14.45420</td>\n",
       "    </tr>\n",
       "    <tr>\n",
       "      <th>75%</th>\n",
       "      <td>1.000000</td>\n",
       "      <td>3.000000</td>\n",
       "      <td>38.000000</td>\n",
       "      <td>1.000000</td>\n",
       "      <td>0.000000</td>\n",
       "      <td>31.13750</td>\n",
       "    </tr>\n",
       "    <tr>\n",
       "      <th>max</th>\n",
       "      <td>1.000000</td>\n",
       "      <td>3.000000</td>\n",
       "      <td>80.000000</td>\n",
       "      <td>8.000000</td>\n",
       "      <td>6.000000</td>\n",
       "      <td>512.32920</td>\n",
       "    </tr>\n",
       "  </tbody>\n",
       "</table>\n",
       "</div>"
      ],
      "text/plain": [
       "         Survived      Pclass         Age  Siblings/Spouses Aboard  \\\n",
       "count  887.000000  887.000000  887.000000               887.000000   \n",
       "mean     0.385569    2.305524   29.471443                 0.525366   \n",
       "std      0.487004    0.836662   14.121908                 1.104669   \n",
       "min      0.000000    1.000000    0.420000                 0.000000   \n",
       "25%      0.000000    2.000000   20.250000                 0.000000   \n",
       "50%      0.000000    3.000000   28.000000                 0.000000   \n",
       "75%      1.000000    3.000000   38.000000                 1.000000   \n",
       "max      1.000000    3.000000   80.000000                 8.000000   \n",
       "\n",
       "       Parents/Children Aboard       Fare  \n",
       "count               887.000000  887.00000  \n",
       "mean                  0.383315   32.30542  \n",
       "std                   0.807466   49.78204  \n",
       "min                   0.000000    0.00000  \n",
       "25%                   0.000000    7.92500  \n",
       "50%                   0.000000   14.45420  \n",
       "75%                   0.000000   31.13750  \n",
       "max                   6.000000  512.32920  "
      ]
     },
     "execution_count": 153,
     "metadata": {},
     "output_type": "execute_result"
    }
   ],
   "source": [
    "titanic.describe() # Mostramos un resumen estadístico de las columnas numéricas"
   ]
  },
  {
   "cell_type": "markdown",
   "metadata": {},
   "source": [
    "La función `describe()` nos permite ver un resumen de los datos del dataset, como la cantidad de filas, el promedio, la desviación estándar, el valor mínimo y máximo de cada columna."
   ]
  },
  {
   "cell_type": "markdown",
   "metadata": {},
   "source": [
    "Lo siguiente es ver la cantidad de valores nulos que tiene el dataset, para ello se utiliza la función `isnull()` y `sum()`."
   ]
  },
  {
   "cell_type": "code",
   "execution_count": 154,
   "metadata": {},
   "outputs": [
    {
     "name": "stdout",
     "output_type": "stream",
     "text": [
      "Valores nulos en el dataset: \n",
      "Survived                   0\n",
      "Pclass                     0\n",
      "Name                       0\n",
      "Sex                        0\n",
      "Age                        0\n",
      "Siblings/Spouses Aboard    0\n",
      "Parents/Children Aboard    0\n",
      "Fare                       0\n",
      "dtype: int64\n"
     ]
    }
   ],
   "source": [
    "def null_table(titanic):\n",
    "    print(\"Valores nulos en el dataset: \")\n",
    "    print(pd.isnull(titanic).sum()) # Mostramos los valores nulos de cada columna\n",
    "\n",
    "null_table(titanic) # Mostramos los valores nulos de cada columna"
   ]
  },
  {
   "cell_type": "markdown",
   "metadata": {},
   "source": [
    "El dataset no contiene valores nulos, por lo que no es necesario realizar un tratamiento de datos. Lo que facilita en cierta manera al momento de realizar las consultas.\n"
   ]
  },
  {
   "cell_type": "code",
   "execution_count": 155,
   "metadata": {},
   "outputs": [
    {
     "data": {
      "text/html": [
       "<div>\n",
       "<style scoped>\n",
       "    .dataframe tbody tr th:only-of-type {\n",
       "        vertical-align: middle;\n",
       "    }\n",
       "\n",
       "    .dataframe tbody tr th {\n",
       "        vertical-align: top;\n",
       "    }\n",
       "\n",
       "    .dataframe thead th {\n",
       "        text-align: right;\n",
       "    }\n",
       "</style>\n",
       "<table border=\"1\" class=\"dataframe\">\n",
       "  <thead>\n",
       "    <tr style=\"text-align: right;\">\n",
       "      <th></th>\n",
       "      <th>Survived</th>\n",
       "      <th>Pclass</th>\n",
       "      <th>Name</th>\n",
       "      <th>Sex</th>\n",
       "      <th>Age</th>\n",
       "      <th>Siblings/Spouses Aboard</th>\n",
       "      <th>Parents/Children Aboard</th>\n",
       "      <th>Fare</th>\n",
       "    </tr>\n",
       "  </thead>\n",
       "  <tbody>\n",
       "    <tr>\n",
       "      <th>0</th>\n",
       "      <td>0</td>\n",
       "      <td>3</td>\n",
       "      <td>Mr. Owen Harris Braund</td>\n",
       "      <td>male</td>\n",
       "      <td>22.0</td>\n",
       "      <td>1</td>\n",
       "      <td>0</td>\n",
       "      <td>7.2500</td>\n",
       "    </tr>\n",
       "    <tr>\n",
       "      <th>1</th>\n",
       "      <td>1</td>\n",
       "      <td>1</td>\n",
       "      <td>Mrs. John Bradley (Florence Briggs Thayer) Cum...</td>\n",
       "      <td>female</td>\n",
       "      <td>38.0</td>\n",
       "      <td>1</td>\n",
       "      <td>0</td>\n",
       "      <td>71.2833</td>\n",
       "    </tr>\n",
       "    <tr>\n",
       "      <th>2</th>\n",
       "      <td>1</td>\n",
       "      <td>3</td>\n",
       "      <td>Miss. Laina Heikkinen</td>\n",
       "      <td>female</td>\n",
       "      <td>26.0</td>\n",
       "      <td>0</td>\n",
       "      <td>0</td>\n",
       "      <td>7.9250</td>\n",
       "    </tr>\n",
       "    <tr>\n",
       "      <th>3</th>\n",
       "      <td>1</td>\n",
       "      <td>1</td>\n",
       "      <td>Mrs. Jacques Heath (Lily May Peel) Futrelle</td>\n",
       "      <td>female</td>\n",
       "      <td>35.0</td>\n",
       "      <td>1</td>\n",
       "      <td>0</td>\n",
       "      <td>53.1000</td>\n",
       "    </tr>\n",
       "    <tr>\n",
       "      <th>4</th>\n",
       "      <td>0</td>\n",
       "      <td>3</td>\n",
       "      <td>Mr. William Henry Allen</td>\n",
       "      <td>male</td>\n",
       "      <td>35.0</td>\n",
       "      <td>0</td>\n",
       "      <td>0</td>\n",
       "      <td>8.0500</td>\n",
       "    </tr>\n",
       "  </tbody>\n",
       "</table>\n",
       "</div>"
      ],
      "text/plain": [
       "   Survived  Pclass                                               Name  \\\n",
       "0         0       3                             Mr. Owen Harris Braund   \n",
       "1         1       1  Mrs. John Bradley (Florence Briggs Thayer) Cum...   \n",
       "2         1       3                              Miss. Laina Heikkinen   \n",
       "3         1       1        Mrs. Jacques Heath (Lily May Peel) Futrelle   \n",
       "4         0       3                            Mr. William Henry Allen   \n",
       "\n",
       "      Sex   Age  Siblings/Spouses Aboard  Parents/Children Aboard     Fare  \n",
       "0    male  22.0                        1                        0   7.2500  \n",
       "1  female  38.0                        1                        0  71.2833  \n",
       "2  female  26.0                        0                        0   7.9250  \n",
       "3  female  35.0                        1                        0  53.1000  \n",
       "4    male  35.0                        0                        0   8.0500  "
      ]
     },
     "execution_count": 155,
     "metadata": {},
     "output_type": "execute_result"
    }
   ],
   "source": [
    "titanic.head()"
   ]
  },
  {
   "cell_type": "markdown",
   "metadata": {},
   "source": [
    "En la primer parte de las preguntas se pide lo siguiente:\n",
    "\n",
    "a. Calcular la probabilidad condicional de que una persona sobreviva dado su género y su clase de pasajero: P(S|G,C).\n",
    "\n",
    "P(S= true | G=female,C=1)\n",
    "\n",
    "P(S= true | G=female,C=2)\n",
    "\n",
    "P(S= true | G=female,C=3)\n",
    "\n",
    "P(S= true | G=male,C=1)\n",
    "\n",
    "P(S= true | G=male,C=2)\n",
    "\n",
    "P(S= true | G=male,C=3)"
   ]
  },
  {
   "cell_type": "code",
   "execution_count": 156,
   "metadata": {},
   "outputs": [
    {
     "data": {
      "text/plain": [
       "Text(0.5, 1.0, 'Tasa de sobrevivientes según el Género y la Clase')"
      ]
     },
     "execution_count": 156,
     "metadata": {},
     "output_type": "execute_result"
    },
    {
     "data": {
      "image/png": "[encoded data removed]",
      "text/plain": [
       "<Figure size 640x480 with 1 Axes>"
      ]
     },
     "metadata": {},
     "output_type": "display_data"
    }
   ],
   "source": [
    "sns.barplot(x=\"Sex\", y=\"Survived\", hue=\"Pclass\", data=titanic)\n",
    "plt.ylabel(\"Tasa de sobrevivientes\")\n",
    "plt.xlabel(\"Género\")\n",
    "plt.xticks([0,1],[\"Hombre\", \"Mujer\"])\n",
    "plt.title(\"Tasa de sobrevivientes según el Género y la Clase\")"
   ]
  },
  {
   "cell_type": "code",
   "execution_count": 157,
   "metadata": {},
   "outputs": [
    {
     "data": {
      "text/html": [
       "<div>\n",
       "<style scoped>\n",
       "    .dataframe tbody tr th:only-of-type {\n",
       "        vertical-align: middle;\n",
       "    }\n",
       "\n",
       "    .dataframe tbody tr th {\n",
       "        vertical-align: top;\n",
       "    }\n",
       "\n",
       "    .dataframe thead th {\n",
       "        text-align: right;\n",
       "    }\n",
       "</style>\n",
       "<table border=\"1\" class=\"dataframe\">\n",
       "  <thead>\n",
       "    <tr style=\"text-align: right;\">\n",
       "      <th></th>\n",
       "      <th>Survived</th>\n",
       "      <th>Pclass</th>\n",
       "      <th>Name</th>\n",
       "      <th>Sex</th>\n",
       "      <th>Age</th>\n",
       "      <th>Siblings/Spouses Aboard</th>\n",
       "      <th>Parents/Children Aboard</th>\n",
       "      <th>Fare</th>\n",
       "    </tr>\n",
       "  </thead>\n",
       "  <tbody>\n",
       "    <tr>\n",
       "      <th>1</th>\n",
       "      <td>1</td>\n",
       "      <td>1</td>\n",
       "      <td>Mrs. John Bradley (Florence Briggs Thayer) Cum...</td>\n",
       "      <td>female</td>\n",
       "      <td>38.0</td>\n",
       "      <td>1</td>\n",
       "      <td>0</td>\n",
       "      <td>71.2833</td>\n",
       "    </tr>\n",
       "    <tr>\n",
       "      <th>2</th>\n",
       "      <td>1</td>\n",
       "      <td>3</td>\n",
       "      <td>Miss. Laina Heikkinen</td>\n",
       "      <td>female</td>\n",
       "      <td>26.0</td>\n",
       "      <td>0</td>\n",
       "      <td>0</td>\n",
       "      <td>7.9250</td>\n",
       "    </tr>\n",
       "    <tr>\n",
       "      <th>3</th>\n",
       "      <td>1</td>\n",
       "      <td>1</td>\n",
       "      <td>Mrs. Jacques Heath (Lily May Peel) Futrelle</td>\n",
       "      <td>female</td>\n",
       "      <td>35.0</td>\n",
       "      <td>1</td>\n",
       "      <td>0</td>\n",
       "      <td>53.1000</td>\n",
       "    </tr>\n",
       "    <tr>\n",
       "      <th>8</th>\n",
       "      <td>1</td>\n",
       "      <td>3</td>\n",
       "      <td>Mrs. Oscar W (Elisabeth Vilhelmina Berg) Johnson</td>\n",
       "      <td>female</td>\n",
       "      <td>27.0</td>\n",
       "      <td>0</td>\n",
       "      <td>2</td>\n",
       "      <td>11.1333</td>\n",
       "    </tr>\n",
       "    <tr>\n",
       "      <th>9</th>\n",
       "      <td>1</td>\n",
       "      <td>2</td>\n",
       "      <td>Mrs. Nicholas (Adele Achem) Nasser</td>\n",
       "      <td>female</td>\n",
       "      <td>14.0</td>\n",
       "      <td>1</td>\n",
       "      <td>0</td>\n",
       "      <td>30.0708</td>\n",
       "    </tr>\n",
       "  </tbody>\n",
       "</table>\n",
       "</div>"
      ],
      "text/plain": [
       "   Survived  Pclass                                               Name  \\\n",
       "1         1       1  Mrs. John Bradley (Florence Briggs Thayer) Cum...   \n",
       "2         1       3                              Miss. Laina Heikkinen   \n",
       "3         1       1        Mrs. Jacques Heath (Lily May Peel) Futrelle   \n",
       "8         1       3   Mrs. Oscar W (Elisabeth Vilhelmina Berg) Johnson   \n",
       "9         1       2                 Mrs. Nicholas (Adele Achem) Nasser   \n",
       "\n",
       "      Sex   Age  Siblings/Spouses Aboard  Parents/Children Aboard     Fare  \n",
       "1  female  38.0                        1                        0  71.2833  \n",
       "2  female  26.0                        0                        0   7.9250  \n",
       "3  female  35.0                        1                        0  53.1000  \n",
       "8  female  27.0                        0                        2  11.1333  \n",
       "9  female  14.0                        1                        0  30.0708  "
      ]
     },
     "execution_count": 157,
     "metadata": {},
     "output_type": "execute_result"
    }
   ],
   "source": [
    "# Calcular la probabilidad condicional de sobrevivir dado el género y la clase\n",
    "\n",
    "df_survived = titanic[titanic['Survived'] == 1] # Filtramos los sobrevivientes\n",
    "df_survived.head()"
   ]
  },
  {
   "cell_type": "code",
   "execution_count": 158,
   "metadata": {},
   "outputs": [
    {
     "name": "stdout",
     "output_type": "stream",
     "text": [
      "P(Survived=true | Gender=female, Class=1): 0.103\n",
      "P(Survived=true | Gender=female, Class=2): 0.079\n",
      "P(Survived=true | Gender=female, Class=3): 0.081\n",
      "P(Survived=true | Gender=male, Class=1): 0.051\n",
      "P(Survived=true | Gender=male, Class=2): 0.019\n",
      "P(Survived=true | Gender=male, Class=3): 0.053\n"
     ]
    }
   ],
   "source": [
    "def calculate_conditional_probability(data, gender, passenger_class):\n",
    "    total_count = len(data)\n",
    "    survived_count = len(data[(data['Survived'] == 1) & (data['Sex'] == gender) & (data['Pclass'] == passenger_class)])\n",
    "    conditional_probability = survived_count / total_count\n",
    "    return conditional_probability\n",
    "\n",
    "# Probabilidades condicionales para mujeres en diferentes clases de pasajeros\n",
    "female_survived_class_1 = calculate_conditional_probability(titanic, 'female', 1)\n",
    "female_survived_class_2 = calculate_conditional_probability(titanic, 'female', 2)\n",
    "female_survived_class_3 = calculate_conditional_probability(titanic, 'female', 3)\n",
    "\n",
    "# Probabilidades condicionales para hombres en diferentes clases de pasajeros\n",
    "male_survived_class_1 = calculate_conditional_probability(titanic, 'male', 1)\n",
    "male_survived_class_2 = calculate_conditional_probability(titanic, 'male', 2)\n",
    "male_survived_class_3 = calculate_conditional_probability(titanic, 'male', 3)\n",
    "\n",
    "# Imprimir los resultados\n",
    "print(\"P(Survived=true | Gender=female, Class=1):\", round(female_survived_class_1, 3))\n",
    "print(\"P(Survived=true | Gender=female, Class=2):\", round(female_survived_class_2, 3))\n",
    "print(\"P(Survived=true | Gender=female, Class=3):\", round(female_survived_class_3, 3))\n",
    "print(\"P(Survived=true | Gender=male, Class=1):\", round(male_survived_class_1, 3))\n",
    "print(\"P(Survived=true | Gender=male, Class=2):\", round(male_survived_class_2, 3))\n",
    "print(\"P(Survived=true | Gender=male, Class=3):\", round(male_survived_class_3, 3))"
   ]
  },
  {
   "cell_type": "markdown",
   "metadata": {},
   "source": [
    "El resultado mostrado anteriormente es la probabilidad condicional de que una persona sobreviva dado su género y su clase de pasajero.\n"
   ]
  },
  {
   "cell_type": "code",
   "execution_count": 159,
   "metadata": {},
   "outputs": [],
   "source": [
    "#se importa la libreria sklearn, para poder realizar el mismo ejercicio pero con la libreria.\n",
    "\n",
    "from sklearn.model_selection import train_test_split\n",
    "\n",
    "# Dividir los datos en entrenamiento y prueba (no se utilizará el conjunto de prueba en este caso)\n",
    "train_titanic, _ = train_test_split(titanic, test_size=0.3, random_state=42)\n"
   ]
  },
  {
   "cell_type": "markdown",
   "metadata": {},
   "source": [
    "La función `train_test_split()` nos permite dividir el dataset en dos partes, una para entrenamiento y otra para testeo. En este caso se utiliza el 70% para entrenamiento y el 30% para testeo.\n",
    "\n",
    "El `random_state` establece la semilla para el generador de números aleatorios. Proporcionar un valor específico (en este caso, 42) garantizará que la división del conjunto de datos sea reproducible. "
   ]
  },
  {
   "cell_type": "code",
   "execution_count": 160,
   "metadata": {},
   "outputs": [],
   "source": [
    "# Calcular las probabilidades condicionales utilizando scikit-learn\n",
    "def calc_cond_prob_sklearn(data, gender, pclass):\n",
    "    survived_count = data[(data['Survived'] == 1) & (data['Sex'] == gender) & (data['Pclass'] == pclass)].shape[0]\n",
    "    total_count = data.shape[0]\n",
    "    conditional_probability = survived_count / total_count\n",
    "    return conditional_probability"
   ]
  },
  {
   "cell_type": "code",
   "execution_count": 161,
   "metadata": {},
   "outputs": [],
   "source": [
    "# fsc -> female_survived_class y msc -> male_survived_class\n",
    "# Probabilidades condicionales para mujeres en diferentes clases de pasajeros.\n",
    "fsc_1 = calc_cond_prob_sklearn(train_titanic, 'female', 1)\n",
    "fsc_2 = calc_cond_prob_sklearn(train_titanic, 'female', 2)\n",
    "fsc_3 = calc_cond_prob_sklearn(train_titanic, 'female', 3)\n",
    "\n",
    "# Probabilidades condicionales para hombres en diferentes clases de pasajeros.\n",
    "msc_1 = calc_cond_prob_sklearn(train_titanic, 'male', 1)\n",
    "msc_2 = calc_cond_prob_sklearn(train_titanic, 'male', 2)\n",
    "msc_3 = calc_cond_prob_sklearn(train_titanic, 'male', 3)"
   ]
  },
  {
   "cell_type": "code",
   "execution_count": 162,
   "metadata": {},
   "outputs": [
    {
     "name": "stdout",
     "output_type": "stream",
     "text": [
      "P(S=true | G=female, C=1): 0.115\n",
      "P(S=true | G=female, C=2): 0.087\n",
      "P(S=true | G=female, C=3): 0.081\n",
      "P(S=true | G=male, C=1): 0.039\n",
      "P(S=true | G=male, C=2): 0.016\n",
      "P(S=true | G=male, C=3): 0.052\n"
     ]
    }
   ],
   "source": [
    "print(\"P(S=true | G=female, C=1):\", round(fsc_1, 3))\n",
    "print(\"P(S=true | G=female, C=2):\", round(fsc_2, 3))\n",
    "print(\"P(S=true | G=female, C=3):\", round(fsc_3, 3))\n",
    "print(\"P(S=true | G=male, C=1):\", round(msc_1, 3))\n",
    "print(\"P(S=true | G=male, C=2):\", round(msc_2, 3))\n",
    "print(\"P(S=true | G=male, C=3):\", round(msc_3, 3))"
   ]
  },
  {
   "cell_type": "markdown",
   "metadata": {},
   "source": [
    "Los valores en ambos casos son similares, aunque se muestra una pequeña diferencia entre los 2 resultados. Esto se debe a que en el primer caso se utilizó el conjunto de datos completo, mientras que en el segundo caso se utilizó el conjunto de entrenamiento. Por lo tanto, el segundo resultado es más preciso."
   ]
  },
  {
   "cell_type": "markdown",
   "metadata": {},
   "source": [
    "### b. ¿Cuál es la probabilidad de que un niño que tenga 10 o menos años de edad y esté en 3era clase sobreviva? \n",
    "\n",
    "P(S= true | A≤10,C=3)"
   ]
  },
  {
   "cell_type": "markdown",
   "metadata": {},
   "source": [
    "Para calcular la probabilidad de que un niño que tenga 10 o menos años de edad y esté en 3era clase sobreviva, se utiliza la función `query()` y se le pasa como parámetro la condición que se quiere evaluar. "
   ]
  },
  {
   "cell_type": "code",
   "execution_count": 163,
   "metadata": {},
   "outputs": [],
   "source": [
    "# Calcular la probabilidad de sobrevivir de un niño de 10 años y de 3ra clase\n",
    "def calc_cond_prob_child(data, age, pclass):\n",
    "    total_count = len(data)\n",
    "    survived_count = len(data[(data['Survived'] == 1) & (data['Age'] <= age) & (data['Pclass'] == pclass)])\n",
    "    conditional_probability = survived_count / total_count\n",
    "    return conditional_probability"
   ]
  },
  {
   "cell_type": "code",
   "execution_count": 164,
   "metadata": {},
   "outputs": [],
   "source": [
    "def calc_cond_prob_child_sklearn(data, age, pclass):\n",
    "    survived_count = data[(data['Survived'] == 1) & (data['Age'] <= age) & (data['Pclass'] == pclass)].shape[0]\n",
    "    total_count = data.shape[0]\n",
    "    conditional_probability = survived_count / total_count\n",
    "    return conditional_probability\n"
   ]
  },
  {
   "cell_type": "code",
   "execution_count": 165,
   "metadata": {},
   "outputs": [
    {
     "name": "stdout",
     "output_type": "stream",
     "text": [
      "P(S=true | A=10, C=3): 0.0248\n",
      "P(S=true | A=10, C=3): 0.02581\n"
     ]
    }
   ],
   "source": [
    "child_survived_class_3 = calc_cond_prob_child(titanic, 10, 3)\n",
    "print(\"P(S=true | A=10, C=3):\", round(child_survived_class_3, 5))\n",
    "\n",
    "child_survived_class_3 = calc_cond_prob_child_sklearn(train_titanic, 10, 3)\n",
    "print(\"P(S=true | A=10, C=3):\", round(child_survived_class_3, 5))"
   ]
  },
  {
   "cell_type": "markdown",
   "metadata": {},
   "source": [
    "### c. ¿Cuánto pagaron las personas por estar en el barco? Calcular la expectativa de la tarifa (X) condicionada por la clase de pasajero (C).\n",
    "\n",
    "E[X|C=1]\n",
    "\n",
    "E[X|C=2]\n",
    "\n",
    "E[X|C=3]"
   ]
  },
  {
   "cell_type": "code",
   "execution_count": 166,
   "metadata": {},
   "outputs": [],
   "source": [
    "def calc_cond_fare_class(data, pclass):\n",
    "    filtered_data = data[data['Pclass'] == pclass] # Filtramos los datos por clase\n",
    "    total_count = len(filtered_data)\n",
    "    total_fare = filtered_data['Fare'].sum() # Sumamos los valores de la columna Fare\n",
    "    expected_fare = total_fare / total_count\n",
    "    return expected_fare"
   ]
  },
  {
   "cell_type": "code",
   "execution_count": 167,
   "metadata": {},
   "outputs": [
    {
     "name": "stdout",
     "output_type": "stream",
     "text": [
      "Tarifa promedio para la clase 1: 84.155\n",
      "Tarifa promedio para la clase 2: 20.662\n",
      "Tarifa promedio para la clase 3: 13.708\n"
     ]
    }
   ],
   "source": [
    "expected_fare_class_1 = calc_cond_fare_class(titanic, 1)\n",
    "expected_fare_class_2 = calc_cond_fare_class(titanic, 2)\n",
    "expected_fare_class_3 = calc_cond_fare_class(titanic, 3)\n",
    "\n",
    "print(\"Tarifa promedio para la clase 1:\", round(expected_fare_class_1, 3))\n",
    "print(\"Tarifa promedio para la clase 2:\", round(expected_fare_class_2, 3))\n",
    "print(\"Tarifa promedio para la clase 3:\", round(expected_fare_class_3, 3))"
   ]
  }
 ],
 "metadata": {
  "kernelspec": {
   "display_name": "Python 3",
   "language": "python",
   "name": "python3"
  },
  "language_info": {
   "codemirror_mode": {
    "name": "ipython",
    "version": 3
   },
   "file_extension": ".py",
   "mimetype": "text/x-python",
   "name": "python",
   "nbconvert_exporter": "python",
   "pygments_lexer": "ipython3",
   "version": "3.11.5"
  },
  "orig_nbformat": 4
 },
 "nbformat": 4,
 "nbformat_minor": 2
}
